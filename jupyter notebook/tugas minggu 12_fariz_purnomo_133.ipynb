{
 "cells": [
  {
   "cell_type": "code",
   "execution_count": 2,
   "metadata": {},
   "outputs": [],
   "source": [
    "import findspark\n",
    "findspark.init()"
   ]
  },
  {
   "cell_type": "code",
   "execution_count": 3,
   "metadata": {},
   "outputs": [],
   "source": [
    "\n",
    "# import findspark\n",
    "import findspark\n",
    "findspark.init()\n",
    "\n",
    "# import SparkSession\n",
    "from pyspark.sql import SparkSession\n",
    "\n",
    "# create session\n",
    "spark = SparkSession \\\n",
    "    .builder \\\n",
    "    .appName(\"Python Spark SQL basic example\") \\\n",
    "    .getOrCreate()"
   ]
  },
  {
   "cell_type": "code",
   "execution_count": 4,
   "metadata": {},
   "outputs": [
    {
     "name": "stdout",
     "output_type": "stream",
     "text": [
      "<pyspark.sql.session.SparkSession object at 0x7f67e0829d90>\n"
     ]
    }
   ],
   "source": [
    "print(spark)"
   ]
  },
  {
   "cell_type": "code",
   "execution_count": 5,
   "metadata": {},
   "outputs": [],
   "source": [
    "from pyspark.ml.evaluation import RegressionEvaluator\n",
    "from pyspark.ml.recommendation import ALS\n",
    "from pyspark.sql import Row"
   ]
  },
  {
   "cell_type": "code",
   "execution_count": 6,
   "metadata": {},
   "outputs": [],
   "source": [
    "# read dataset\n",
    "df = spark.read.csv(\"/home/fariz/serendipity-sac2018/training.csv\", header=True, inferSchema=True)"
   ]
  },
  {
   "cell_type": "code",
   "execution_count": 7,
   "metadata": {},
   "outputs": [
    {
     "name": "stdout",
     "output_type": "stream",
     "text": [
      "+------+-------+------+-------------+\n",
      "|userId|movieId|rating|    timestamp|\n",
      "+------+-------+------+-------------+\n",
      "|142882|  91658|   2.5|1515209647000|\n",
      "|142882|   4344|   1.0|1515209646000|\n",
      "|142882|  45720|   2.0|1515209643000|\n",
      "|142882|   4734|   2.0|1515209641000|\n",
      "|142882|  91542|   2.0|1515209637000|\n",
      "|142882|   4446|   1.5|1515209635000|\n",
      "|142882|   3354|   2.5|1515209632000|\n",
      "|142882|   4701|   1.0|1515209631000|\n",
      "|142882|  31696|   0.5|1515209629000|\n",
      "|142882|  97921|   2.0|1515209625000|\n",
      "|142882|   4299|   2.0|1515209623000|\n",
      "|142882|   5388|   2.5|1515209621000|\n",
      "|142882|   3301|   2.5|1515209613000|\n",
      "|142882|   8972|   1.0|1515209611000|\n",
      "|142882|   8950|   3.0|1515209608000|\n",
      "|142882|  85414|   1.5|1515209606000|\n",
      "|142851| 103339|   3.0|1515209598000|\n",
      "|142882|  54272|   2.0|1515209595000|\n",
      "|142882|  46976|   2.0|1515209593000|\n",
      "|142882|  96079|   2.5|1515209590000|\n",
      "+------+-------+------+-------------+\n",
      "only showing top 20 rows\n",
      "\n"
     ]
    }
   ],
   "source": [
    "df.show()"
   ]
  },
  {
   "cell_type": "code",
   "execution_count": 9,
   "metadata": {},
   "outputs": [
    {
     "data": {
      "text/plain": [
       "StructType(List(StructField(userId,IntegerType,true),StructField(movieId,IntegerType,true),StructField(rating,DoubleType,true),StructField(timestamp,LongType,true)))"
      ]
     },
     "execution_count": 9,
     "metadata": {},
     "output_type": "execute_result"
    }
   ],
   "source": [
    "df.schema"
   ]
  },
  {
   "cell_type": "code",
   "execution_count": 10,
   "metadata": {},
   "outputs": [],
   "source": [
    "(training, test) = df.randomSplit([0.8, 0.2])"
   ]
  },
  {
   "cell_type": "code",
   "execution_count": 11,
   "metadata": {},
   "outputs": [],
   "source": [
    "# Build the recommendation model using ALS on the training data\n",
    "# Note we set cold start strategy to 'drop' to ensure we don't get NaN evaluation metrics\n",
    "als = ALS(maxIter=5, regParam=0.01, userCol=\"userId\", itemCol=\"movieId\", ratingCol=\"rating\",\n",
    "          coldStartStrategy=\"drop\")\n",
    "model = als.fit(training)"
   ]
  },
  {
   "cell_type": "code",
   "execution_count": 12,
   "metadata": {},
   "outputs": [
    {
     "name": "stdout",
     "output_type": "stream",
     "text": [
      "Root-mean-square error = 0.838531089218\n"
     ]
    }
   ],
   "source": [
    "# Evaluate the model by computing the RMSE on the test data\n",
    "predictions = model.transform(test)\n",
    "evaluator = RegressionEvaluator(metricName=\"rmse\", labelCol=\"rating\",\n",
    "                                predictionCol=\"prediction\")\n",
    "rmse = evaluator.evaluate(predictions)\n",
    "print(\"Root-mean-square error = \" + str(rmse))"
   ]
  },
  {
   "cell_type": "code",
   "execution_count": 13,
   "metadata": {},
   "outputs": [],
   "source": [
    "# Generate top 10 movie recommendations for each user\n",
    "userRecs = model.recommendForAllUsers(10)\n",
    "# Generate top 10 user recommendations for each movie\n",
    "movieRecs = model.recommendForAllItems(10)"
   ]
  },
  {
   "cell_type": "code",
   "execution_count": 14,
   "metadata": {},
   "outputs": [
    {
     "name": "stdout",
     "output_type": "stream",
     "text": [
      "+------+--------------------+\n",
      "|userId|     recommendations|\n",
      "+------+--------------------+\n",
      "|100170|[[84838, 11.76872...|\n",
      "|100274|[[167532, 13.6281...|\n",
      "|100446|[[170113, 16.8581...|\n",
      "|100800|[[166812, 11.2536...|\n",
      "|100884|[[84838, 11.00514...|\n",
      "|100986|[[153018, 11.0922...|\n",
      "|101055|[[160826, 22.4140...|\n",
      "|101094|[[150252, 9.81708...|\n",
      "|101475|[[119165, 10.5947...|\n",
      "|101627|[[170731, 17.7995...|\n",
      "|101775|[[150667, 23.7395...|\n",
      "|102119|[[84838, 13.57463...|\n",
      "|102524|[[150252, 11.6173...|\n",
      "|102594|[[158398, 15.6268...|\n",
      "|102793|[[170113, 18.7712...|\n",
      "|102798|[[80792, 16.80975...|\n",
      "|102960|[[150252, 12.8992...|\n",
      "|103011|[[176389, 15.6038...|\n",
      "|103357|[[160826, 13.9831...|\n",
      "|103747|[[143203, 20.6795...|\n",
      "+------+--------------------+\n",
      "only showing top 20 rows\n",
      "\n"
     ]
    }
   ],
   "source": [
    "userRecs.show()"
   ]
  },
  {
   "cell_type": "code",
   "execution_count": 15,
   "metadata": {},
   "outputs": [
    {
     "name": "stdout",
     "output_type": "stream",
     "text": [
      "+-------+--------------------+\n",
      "|movieId|     recommendations|\n",
      "+-------+--------------------+\n",
      "|    148|[[179335, 15.7472...|\n",
      "|    463|[[181655, 20.0932...|\n",
      "|    471|[[130169, 8.34912...|\n",
      "|    496|[[114877, 30.6769...|\n",
      "|    833|[[206080, 10.0441...|\n",
      "|   1088|[[163855, 6.88318...|\n",
      "|   1238|[[113105, 7.90653...|\n",
      "|   1342|[[171721, 9.43546...|\n",
      "|   1580|[[105788, 6.35815...|\n",
      "|   1591|[[197150, 8.44356...|\n",
      "|   1645|[[174864, 6.36123...|\n",
      "|   1829|[[113105, 8.93149...|\n",
      "|   1959|[[170369, 8.04614...|\n",
      "|   2122|[[134307, 8.58994...|\n",
      "|   2142|[[115510, 7.63863...|\n",
      "|   2366|[[170369, 9.17588...|\n",
      "|   2659|[[173669, 6.24899...|\n",
      "|   2866|[[172551, 11.5307...|\n",
      "|   3175|[[181823, 7.88067...|\n",
      "|   3749|[[183396, 13.1389...|\n",
      "+-------+--------------------+\n",
      "only showing top 20 rows\n",
      "\n"
     ]
    }
   ],
   "source": [
    "movieRecs.show()"
   ]
  },
  {
   "cell_type": "code",
   "execution_count": null,
   "metadata": {},
   "outputs": [],
   "source": []
  }
 ],
 "metadata": {
  "kernelspec": {
   "display_name": "Python 2",
   "language": "python",
   "name": "python2"
  },
  "language_info": {
   "codemirror_mode": {
    "name": "ipython",
    "version": 2
   },
   "file_extension": ".py",
   "mimetype": "text/x-python",
   "name": "python",
   "nbconvert_exporter": "python",
   "pygments_lexer": "ipython2",
   "version": "2.7.15"
  }
 },
 "nbformat": 4,
 "nbformat_minor": 2
}
